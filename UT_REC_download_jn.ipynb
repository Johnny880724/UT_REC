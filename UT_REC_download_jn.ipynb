{
 "cells": [
  {
   "cell_type": "code",
   "execution_count": 2,
   "metadata": {},
   "outputs": [],
   "source": [
    "import requests\n",
    "import urllib.request\n",
    "import time\n",
    "from bs4 import BeautifulSoup"
   ]
  },
  {
   "cell_type": "code",
   "execution_count": 3,
   "metadata": {},
   "outputs": [],
   "source": [
    "url = 'https://www.utrecsports.org/facilities/facility-schedules'\n",
    "response = requests.get(url)\n"
   ]
  },
  {
   "cell_type": "code",
   "execution_count": 6,
   "metadata": {},
   "outputs": [],
   "source": [
    "soup = BeautifulSoup(response.content,\"html.parser\")"
   ]
  },
  {
   "cell_type": "code",
   "execution_count": 53,
   "metadata": {},
   "outputs": [],
   "source": [
    "tables = soup.find_all(\"table\")"
   ]
  },
  {
   "cell_type": "code",
   "execution_count": 126,
   "metadata": {
    "scrolled": false
   },
   "outputs": [],
   "source": [
    "rows = []\n",
    "for row in tables[1].findAll(\"tr\"):\n",
    "    cols = []\n",
    "    for col in row.findAll(\"td\"):\n",
    "        cols.append(col.text)\n",
    "    rows.append(cols)"
   ]
  },
  {
   "cell_type": "code",
   "execution_count": 142,
   "metadata": {},
   "outputs": [
    {
     "name": "stdout",
     "output_type": "stream",
     "text": [
      "Monday, February 14th 9p - 11p\n",
      "RSC Room 2.200 (ct. 1)\n",
      " \n",
      "Tuesday, February 15th 5:30p - 11p\n",
      "BEL Room 348\n",
      " \n",
      "Tuesday, February 15th 10p - 11p\n",
      "RSC Room 2.200 (ct. 1)\n",
      " \n",
      "Thursday, February 17th 5:30p - 11p\n",
      "BEL Room 348\n",
      " \n",
      "Thursday, February 17th 5:30p - 7:30p\n",
      "RSC Room 2.200 (ct. 1)\n",
      " \n",
      "Thursday, February 17th 10p - 11p\n",
      "RSC Room 2.200 (ct. 1)\n",
      " \n",
      "Sunday, February 20th Noon - 6p\n",
      "BEL Room 348\n",
      " \n",
      "Sunday, February 20th 7p - 10p\n",
      "RSC Room 2.200 (ct. 1)\n",
      " \n",
      "Monday, February 21st 9p - 11p\n",
      "RSC Room 2.200 (ct. 1)\n",
      " \n",
      "Tuesday, February 22nd 5:30p - 11p\n",
      "BEL Room 348\n",
      " \n",
      "Tuesday, February 22nd 10p - 11p\n",
      "RSC Room 2.200 (ct. 1)\n",
      " \n",
      "Thursday, February 24th 5:30p - 11p\n",
      "BEL Room 348\n",
      " \n",
      "Thursday, February 24th 5:30p - 7:30p\n",
      "RSC Room 2.200 (ct. 1)\n",
      " \n",
      "Thursday, February 24th 10p - 11p\n",
      "RSC Room 2.200 (ct. 1)\n",
      " \n"
     ]
    }
   ],
   "source": [
    "days = []\n",
    "gym = \"\"\n",
    "for cols in rows:\n",
    "    if(len(cols) == 1):\n",
    "        title = cols[0]\n",
    "        if(len(title) < 10):\n",
    "            gym = title\n",
    "        else:\n",
    "            days.append(title)\n",
    "    if(len(cols) == 3):\n",
    "        string = cols[2]\n",
    "        elem =string.split(\" \")\n",
    "        #if(elem[0] == 'Informal' and elem[1] == 'Rec' and elem[2] == 'Badminton'):\n",
    "        search_word = 'Informal Rec Badminton'\n",
    "        if(string[:len(search_word)] == 'Informal Rec Badminton'):\n",
    "            print(days[-1], cols[1])\n",
    "            print(gym, cols[0])\n",
    "            print(\" \")"
   ]
  },
  {
   "cell_type": "code",
   "execution_count": null,
   "metadata": {},
   "outputs": [],
   "source": []
  }
 ],
 "metadata": {
  "kernelspec": {
   "display_name": "Python 3",
   "language": "python",
   "name": "python3"
  },
  "language_info": {
   "codemirror_mode": {
    "name": "ipython",
    "version": 3
   },
   "file_extension": ".py",
   "mimetype": "text/x-python",
   "name": "python",
   "nbconvert_exporter": "python",
   "pygments_lexer": "ipython3",
   "version": "3.7.6"
  }
 },
 "nbformat": 4,
 "nbformat_minor": 4
}
