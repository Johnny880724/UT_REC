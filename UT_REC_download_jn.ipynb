{
 "cells": [
  {
   "cell_type": "code",
   "execution_count": 43,
   "metadata": {},
   "outputs": [],
   "source": [
    "import requests\n",
    "import urllib.request\n",
    "import time\n",
    "from bs4 import BeautifulSoup\n",
    "from datetime import datetime, timedelta\n",
    "\n"
   ]
  },
  {
   "cell_type": "code",
   "execution_count": 45,
   "metadata": {},
   "outputs": [],
   "source": [
    "# Get today's date\n",
    "start_date = datetime.today()\n",
    "\n",
    "# Generate a list of date strings for the next 10 days\n",
    "date_strings = [f\"?date={(start_date + timedelta(days=i)).strftime('%m/%d/%y')}\" for i in range(10)]"
   ]
  },
  {
   "cell_type": "code",
   "execution_count": 25,
   "metadata": {},
   "outputs": [],
   "source": [
    "# url = 'https://www.utrecsports.org/facilities/facility-schedules'\n",
    "url = 'https://www.utrecsports.org/facilities/facility-schedules/?date=01/14/25'\n",
    "response = requests.get(url)\n"
   ]
  },
  {
   "cell_type": "code",
   "execution_count": 26,
   "metadata": {},
   "outputs": [],
   "source": [
    "soup = BeautifulSoup(response.content,\"html.parser\")"
   ]
  },
  {
   "cell_type": "code",
   "execution_count": 37,
   "metadata": {},
   "outputs": [],
   "source": [
    "tables = soup.find_all(\"table\")"
   ]
  },
  {
   "cell_type": "code",
   "execution_count": 38,
   "metadata": {
    "scrolled": false
   },
   "outputs": [
    {
     "name": "stdout",
     "output_type": "stream",
     "text": [
      "[[], ['Today: Tuesday, January 14th'], ['BEL502A', '7:00AM - 9:30AM', 'Texas Cheer & Pom (IA) '], ['BEL402', '12:00PM - 1:30PM', 'KIN 119 Social Dance Leads (KHE) '], ['BEL402', '12:00PM - 1:30PM', 'KIN 119 Social Dance Follows (KHE) '], ['BEL402', '12:00PM - 1:30PM', 'PED 103L Beg Social Dance Lead (KHE) '], ['BEL402', '12:00PM - 1:30PM', 'PED 103L Beg Social Dance Follows (KHE) '], ['BEL402', '1:00PM - 2:30PM', 'KIN 119 Social Dance Leads (KHE) '], ['BEL402', '1:00PM - 2:30PM', 'KIN 119 Social Dance Follows (KHE) '], ['BEL402', '1:00PM - 2:30PM', 'PED 103L Beg Social Dance Lead (KHE) '], ['BEL402', '1:00PM - 2:30PM', 'PED 103L Beg Social Dance Follows (KHE) '], ['BEL402', '2:00PM - 3:30PM', 'PED 103L Intrmd Scl Dance Follow (KHE) '], ['BEL402', '2:00PM - 3:30PM', 'PED 103L Intrmd Social Dance Lead (KHE) '], ['BEL402', '3:00PM - 4:30PM', 'PED 103L Intrmd Scl Dance Follow (KHE) '], ['BEL402', '3:00PM - 4:30PM', 'PED 103L Intrmd Social Dance Lead (KHE) '], ['BEL402', '4:00PM - 5:30PM', 'KIN 219L Teach Social Dance (KHE) '], ['BEL348', '5:30PM - 11:00PM', 'Informal Badminton (Fac/Ops) '], ['CCF'], ['CCFTRACK', '4:00PM - 5:00PM', 'Triathlon & Cycling (UTSCA) '], ['CCFTRACK', '5:30PM - 7:30PM', 'Running (UTSCA) '], ['CCF TURF (ALL)', '7:00PM - 9:00PM', 'W Lacrosse (UTSCA) '], ['GRE'], ['GRE Annex Gym (Court 1)', '6:00AM - 11:59PM', 'Closed - Construction Project (Fac/Ops) '], ['GRE Annex Gym (Court 2)', '6:00AM - 11:59PM', 'Closed - Construction Project (Fac/Ops) '], ['GRE Annex Gym (Court 3)', '6:00AM - 11:59PM', 'Closed - Construction Project (Fac/Ops) '], ['GRE Annex Gym (Court 4)', '6:00AM - 11:59PM', 'Closed - Construction Project (Fac/Ops) '], ['GREAERSOUTH', '7:00AM - 8:00PM', 'TeXercise Class (F/W) '], ['GRECONF', '7:00AM - 9:00AM', 'Clerical Staff Mtg. (Programs) '], ['GRE Arena (Court 6)', '10:00AM - 11:30AM', 'Beginner Volleyball (KHE) '], ['GRE Arena (Court 7)', '10:00AM - 11:30AM', 'Beginner Volleyball (KHE) '], ['GREBOARD', '10:00AM - 11:00AM', 'Team Meeting (BUS) '], ['GRECONF', '10:00AM - 10:30AM', 'GRE Wood Flooring Mtg. (Fac/Ops) '], ['GRECONCOURSE', '10:30AM - 4:30PM', 'Tabling (F/W) '], ['GRE Arena (Court 6)', '11:00AM - 12:30PM', 'Intermediate Volleyball (KHE) '], ['GRE Arena (Court 7)', '11:00AM - 12:30PM', 'Intermediate Volleyball (KHE) '], ['GRECONF', '11:00AM - NOON', 'Liaison Mtg. (Fac/Ops) '], ['GREBOARD', '1:30PM - 2:30PM', 'Meeting (Programs) '], ['GRECLASS', '4:30PM - 8:00PM', 'Officials Info Meeting (IM) '], ['GRECONCOURSE', '5:00PM - 7:00PM', 'Tabling (INS) '], ['GREBOARD', '5:30PM - 6:30PM', 'Meeting (INS) '], ['RSC'], ['RSC1136', '8:00AM - 9:30AM', 'PED 106C Cardiovas & Weight Train (KHE) '], ['RSC1136', '8:00AM - 9:30AM', 'PED 106C Weight Training (KHE) '], ['RSC1136', '8:00AM - 4:30PM', 'PED 106C Weight Training (KHE) '], ['RSC Gym (Court 1)', '8:00AM - 10:30AM', 'PED 108C Basketball (KHE) '], ['RSC Gym (Court 2)', '8:00AM - 10:30AM', 'PED 108C Basketball (KHE) '], ['RSC1136', '9:00AM - 10:30AM', 'PED 106C Cardiovas & Weight Train (KHE) '], ['RSC1136', '9:00AM - 10:30AM', 'PED 106C Weight Training (KHE) '], ['RSC1136', '10:00AM - 11:30AM', 'PED 106C Cardiovas & Weight Train (KHE) '], ['RSC1136', '10:00AM - 11:30AM', 'PED 106C Weight Training (KHE) '], ['RSC1106', '11:00AM - 12:30PM', 'PED 106C Circuit Aerobics (KHE) '], ['RSC1136', '11:00AM - 12:30PM', 'PED 106C Cardiovas & Weight Train (KHE) '], ['RSC1136', '11:00AM - 12:30PM', 'PED 106C Weight Training (KHE) '], ['RSC Gym (Court 1)', '11:00AM - 12:30PM', 'PED 106C Soccer (KHE) '], ['RSC Gym (Court 2)', '11:00AM - 12:30PM', 'PED 106C Soccer (KHE) '], ['RSC1136C', '12:00PM - 11:00PM', 'Powerlifting (UTSCA) '], ['RSCHBRB01', '12:00PM - 3:30PM', 'Racquetball & Handball (KHE) '], ['RSCHBRB02', '12:00PM - 3:30PM', 'Racquetball & Handball (KHE) '], ['RSCHBRB03', '12:00PM - 3:30PM', 'Racquetball & Handball (KHE) '], ['RSCHBRB05', '12:00PM - 3:30PM', 'Racquetball & Handball (KHE) '], ['RSCHBRB07', '12:00PM - 3:30PM', 'Racquetball & Handball (KHE) '], ['RSC1138', '5:00PM - 7:00PM', 'Brazilian Jiu Jitsu (UTSCA) '], ['RSC2104', '6:00PM - 8:00PM', 'M Lacrosse Mtg. (UTSCA) '], ['RSC1104', '7:00PM - 10:00PM', 'Dance Team (UTSCA) '], ['RSC1138', '7:00PM - 9:30PM', 'Texas Taekwondo (UTSCA) '], ['RSC Gym (Court 3)', '7:00PM - 10:00PM', 'M Volleyball Open Gym (UTSCA) '], ['WC'], ['WC16', '9:00AM - 10:30AM', 'PED 104R Beginning Tennis (KHE) '], ['WC17', '9:00AM - 10:30AM', 'PED 104R Beginning Tennis (KHE) '], ['WC18', '9:00AM - 10:30AM', 'PED 104R Beginning Tennis (KHE) '], ['WC19', '9:00AM - 10:30AM', 'PED 104R Beginning Tennis (KHE) '], ['WC20', '9:00AM - 10:30AM', 'PED 104R Beginning Tennis (KHE) '], ['WC21', '9:00AM - 10:30AM', 'PED 104R Beginning Tennis (KHE) '], ['WC22', '9:00AM - 10:30AM', 'PED 104R Beginning Tennis (KHE) '], ['WC23', '9:00AM - 10:30AM', 'PED 104R Beginning Tennis (KHE) '], ['WC24', '9:00AM - 10:30AM', 'PED 104R Beginning Tennis (KHE) '], ['WC25', '9:00AM - 10:30AM', 'PED 104R Beginning Tennis (KHE) '], ['WC16', '10:00AM - 11:30AM', 'PED 104R Beginning Tennis (KHE) '], ['WC17', '10:00AM - 11:30AM', 'PED 104R Beginning Tennis (KHE) '], ['WC18', '10:00AM - 11:30AM', 'PED 104R Beginning Tennis (KHE) '], ['WC19', '10:00AM - 11:30AM', 'PED 104R Beginning Tennis (KHE) '], ['WC20', '10:00AM - 11:30AM', 'PED 104R Beginning Tennis (KHE) '], ['WC21', '10:00AM - 11:30AM', 'PED 104R Beginning Tennis (KHE) '], ['WC22', '10:00AM - 11:30AM', 'PED 104R Beginning Tennis (KHE) '], ['WC23', '10:00AM - 11:30AM', 'PED 104R Beginning Tennis (KHE) '], ['WC24', '10:00AM - 11:30AM', 'PED 104R Beginning Tennis (KHE) '], ['WC25', '10:00AM - 11:30AM', 'PED 104R Beginning Tennis (KHE) '], ['WC16', '6:00PM - 8:00PM', 'Tennis (UTSCA) '], ['WC17', '6:00PM - 8:00PM', 'Tennis (UTSCA) '], ['WC18', '6:00PM - 8:00PM', 'Tennis (UTSCA) '], ['WC19', '6:00PM - 8:00PM', 'Tennis (UTSCA) '], ['WC20', '6:00PM - 8:00PM', 'Tennis (UTSCA) '], ['WC21', '6:00PM - 8:00PM', 'Tennis (UTSCA) '], ['WC22', '6:00PM - 8:00PM', 'Tennis (UTSCA) '], ['WC23', '6:00PM - 8:00PM', 'Tennis (UTSCA) '], ['WC24', '6:00PM - 8:00PM', 'Tennis (UTSCA) '], ['WC25', '6:00PM - 8:00PM', 'Tennis (UTSCA) '], ['WWF'], ['WWFPAVILION', '7:30AM - 10:30AM', 'Beach Volleyball Practice (IA) B '], ['WWFARCH', '4:00PM - 10:00PM', 'Archery (UTSCA) '], ['WWF15', '6:00PM - 8:00PM', 'M Rugby (UTSCA) '], ['WWF18', '6:00PM - 8:00PM', 'W Rugby (UTSCA) '], ['WWF10', '7:00PM - 9:00PM', 'Baseball (UTSCA) '], ['WWF16', '7:00PM - 9:30PM', 'WNB Ultimate (UTSCA) '], ['WWF17', '7:00PM - 9:30PM', 'WNB Ultimate (UTSCA) '], ['WWF15', '8:00PM - 9:45PM', 'Disc Golf (UTSCA) ']]\n"
     ]
    }
   ],
   "source": [
    "rows = []\n",
    "for row in tables[2].findAll(\"tr\"):\n",
    "    cols = []\n",
    "    for col in row.findAll(\"td\"):\n",
    "        cols.append(col.text)\n",
    "    rows.append(cols)\n",
    "print(rows)"
   ]
  },
  {
   "cell_type": "markdown",
   "metadata": {},
   "source": []
  },
  {
   "cell_type": "code",
   "execution_count": 36,
   "metadata": {},
   "outputs": [
    {
     "name": "stdout",
     "output_type": "stream",
     "text": [
      "Today: Tuesday, January 14th 5:30PM - 11:00PM\n",
      " BEL348\n",
      " \n"
     ]
    }
   ],
   "source": [
    "days = []\n",
    "gym = \"\"\n",
    "for cols in rows:\n",
    "    if(len(cols) == 1):\n",
    "        title = cols[0]\n",
    "        if(len(title) < 10):\n",
    "            gym = title\n",
    "        else:\n",
    "            days.append(title)\n",
    "    if(len(cols) == 3):\n",
    "        string = cols[2]\n",
    "        elem =string.split(\" \")\n",
    "        #if(elem[0] == 'Informal' and elem[1] == 'Rec' and elem[2] == 'Badminton'):\n",
    "        search_word = 'Informal Badminton'\n",
    "        if(string[:len(search_word)] == 'Informal Badminton'):\n",
    "            print(days[-1], cols[1])\n",
    "            print(gym, cols[0])\n",
    "            print(\" \")"
   ]
  },
  {
   "cell_type": "code",
   "execution_count": 50,
   "metadata": {},
   "outputs": [
    {
     "name": "stdout",
     "output_type": "stream",
     "text": [
      "Today: Tuesday, January 14th 5:30PM - 11:00PM\n",
      " BEL348\n",
      " \n",
      "Wednesday, January 15th 5:30PM - 6:45PM\n",
      " BEL348\n",
      " \n",
      "Thursday, January 16th 5:30PM - 11:00PM\n",
      " BEL348\n",
      " \n",
      "Saturday, January 18th 5:30PM - 11:00PM\n",
      " BEL348\n",
      " \n",
      "Sunday, January 19th 5:30PM - 11:00PM\n",
      " BEL348\n",
      " \n",
      "Monday, January 20th 5:30PM - 11:00PM\n",
      " BEL348\n",
      " \n",
      "Tuesday, January 21st 5:30PM - 11:00PM\n",
      " BEL348\n",
      " \n",
      "Wednesday, January 22nd 5:30PM - 11:00PM\n",
      " BEL348\n",
      " \n",
      "Thursday, January 23rd 5:30PM - 11:00PM\n",
      " BEL348\n",
      " \n"
     ]
    }
   ],
   "source": [
    "import requests\n",
    "import urllib.request\n",
    "import time\n",
    "from bs4 import BeautifulSoup\n",
    "from datetime import datetime, timedelta\n",
    "import os\n",
    "\n",
    "# Get today's date\n",
    "start_date = datetime.today()\n",
    "\n",
    "# Generate a list of date strings for the next 10 days\n",
    "date_strings = [f\"?date={(start_date + timedelta(days=i)).strftime('%m/%d/%y')}\" for i in range(10)]\n",
    "dir_path = os.path.dirname(os.getcwd())\n",
    "\n",
    "with open(dir_path+\"/data.txt\",\"w\") as textfile:\n",
    "    for date_string in date_strings:\n",
    "        url = 'https://www.utrecsports.org/facilities/facility-schedules/' + date_string\n",
    "        response = requests.get(url)\n",
    "        soup = BeautifulSoup(response.content,\"html.parser\")\n",
    "        tables = soup.find_all(\"table\")\n",
    "        rows = []\n",
    "        for row in tables[2].findAll(\"tr\"):\n",
    "            cols = []\n",
    "            for col in row.findAll(\"td\"):\n",
    "                cols.append(col.text)\n",
    "            rows.append(cols)\n",
    "        days = []\n",
    "        gym = \"\"\n",
    "        data = []\n",
    "\n",
    "        for cols in rows:\n",
    "            if(len(cols) == 1):\n",
    "                title = cols[0]\n",
    "                if(len(title) < 10):\n",
    "                    gym = title\n",
    "                else:\n",
    "                    days.append(title)\n",
    "            if(len(cols) == 3):\n",
    "                string = cols[2]\n",
    "                elem =string.split(\" \")\n",
    "                search_word = 'Informal Badminton'\n",
    "                if(search_word in string):\n",
    "                    print(days[-1], cols[1])\n",
    "                    print(gym, cols[0])\n",
    "                    data.append([days[-1] + \" \" + cols[1],\n",
    "                                gym  + \" \" + cols[0]])\n",
    "                    textfile.write(\"{:25s} {:15s} {:5s} {:15s} \\n\"\\\n",
    "                                .format(days[-1], cols[1], gym,cols[0]))\n",
    "                    print(\" \")\n",
    "                "
   ]
  },
  {
   "cell_type": "code",
   "execution_count": null,
   "metadata": {},
   "outputs": [],
   "source": []
  }
 ],
 "metadata": {
  "kernelspec": {
   "display_name": "base",
   "language": "python",
   "name": "python3"
  },
  "language_info": {
   "codemirror_mode": {
    "name": "ipython",
    "version": 3
   },
   "file_extension": ".py",
   "mimetype": "text/x-python",
   "name": "python",
   "nbconvert_exporter": "python",
   "pygments_lexer": "ipython3",
   "version": "3.8.8"
  }
 },
 "nbformat": 4,
 "nbformat_minor": 4
}
